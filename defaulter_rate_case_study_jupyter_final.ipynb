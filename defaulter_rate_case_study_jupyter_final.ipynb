{
 "cells": [
  {
   "cell_type": "markdown",
   "id": "fc722bf1",
   "metadata": {},
   "source": [
    "import os\n",
    "    \n",
    "os.getcwd()"
   ]
  },
  {
   "cell_type": "code",
   "execution_count": 35,
   "id": "6fc53b39",
   "metadata": {},
   "outputs": [],
   "source": [
    "# Importing libraries required\n",
    "import pandas as pd\n",
    "import numpy as np\n",
    "import matplotlib.pyplot as plt\n",
    "%matplotlib inline\n",
    "import seaborn as sns \n",
    "from sklearn.preprocessing import LabelEncoder \n",
    "from sklearn.model_selection import train_test_split\n",
    "from sklearn.ensemble import RandomForestClassifier\n",
    "from sklearn.ensemble import AdaBoostClassifier\n",
    "from sklearn.ensemble import GradientBoostingClassifier\n",
    "from sklearn.metrics import accuracy_score\n",
    "from sklearn.metrics import recall_score\n",
    "import xgboost\n",
    "from sklearn.naive_bayes import GaussianNB\n",
    "from sklearn.svm import SVC\n",
    "from sklearn.neighbors import KNeighborsClassifier\n",
    "from sklearn.metrics import confusion_matrix\n",
    "from sklearn.model_selection import cross_val_score\n",
    "\n"
   ]
  },
  {
   "cell_type": "markdown",
   "id": "5d742216",
   "metadata": {},
   "source": [
    "# Loading the data"
   ]
  },
  {
   "cell_type": "code",
   "execution_count": 36,
   "id": "c96500fa",
   "metadata": {},
   "outputs": [],
   "source": [
    "DF_Main=pd.read_excel('C:/Users/E100579/Desktop/case_study.xlsx')"
   ]
  },
  {
   "cell_type": "code",
   "execution_count": 37,
   "id": "b3a05580",
   "metadata": {},
   "outputs": [],
   "source": [
    "DF=DF_Main.copy()"
   ]
  },
  {
   "cell_type": "code",
   "execution_count": 38,
   "id": "ac7adf18",
   "metadata": {},
   "outputs": [
    {
     "data": {
      "text/html": [
       "<div>\n",
       "<style scoped>\n",
       "    .dataframe tbody tr th:only-of-type {\n",
       "        vertical-align: middle;\n",
       "    }\n",
       "\n",
       "    .dataframe tbody tr th {\n",
       "        vertical-align: top;\n",
       "    }\n",
       "\n",
       "    .dataframe thead th {\n",
       "        text-align: right;\n",
       "    }\n",
       "</style>\n",
       "<table border=\"1\" class=\"dataframe\">\n",
       "  <thead>\n",
       "    <tr style=\"text-align: right;\">\n",
       "      <th></th>\n",
       "      <th>checkin_acc</th>\n",
       "      <th>duration</th>\n",
       "      <th>credit_history</th>\n",
       "      <th>purpose</th>\n",
       "      <th>amount</th>\n",
       "      <th>svaing_acc</th>\n",
       "      <th>present_emp_since</th>\n",
       "      <th>inst_rate</th>\n",
       "      <th>personal_status</th>\n",
       "      <th>other_debtors</th>\n",
       "      <th>...</th>\n",
       "      <th>property</th>\n",
       "      <th>age</th>\n",
       "      <th>inst_plans</th>\n",
       "      <th>housing</th>\n",
       "      <th>num_credits</th>\n",
       "      <th>job</th>\n",
       "      <th>dependents</th>\n",
       "      <th>telephone</th>\n",
       "      <th>foreign_worker</th>\n",
       "      <th>status</th>\n",
       "    </tr>\n",
       "  </thead>\n",
       "  <tbody>\n",
       "    <tr>\n",
       "      <th>0</th>\n",
       "      <td>A11</td>\n",
       "      <td>9</td>\n",
       "      <td>A34</td>\n",
       "      <td>A43</td>\n",
       "      <td>1754</td>\n",
       "      <td>A65</td>\n",
       "      <td>A75</td>\n",
       "      <td>6</td>\n",
       "      <td>A93</td>\n",
       "      <td>A101</td>\n",
       "      <td>...</td>\n",
       "      <td>A121</td>\n",
       "      <td>101</td>\n",
       "      <td>A143</td>\n",
       "      <td>A152</td>\n",
       "      <td>3</td>\n",
       "      <td>A173</td>\n",
       "      <td>2</td>\n",
       "      <td>A192</td>\n",
       "      <td>A201</td>\n",
       "      <td>1</td>\n",
       "    </tr>\n",
       "    <tr>\n",
       "      <th>1</th>\n",
       "      <td>A12</td>\n",
       "      <td>72</td>\n",
       "      <td>A32</td>\n",
       "      <td>A43</td>\n",
       "      <td>8927</td>\n",
       "      <td>A61</td>\n",
       "      <td>A73</td>\n",
       "      <td>3</td>\n",
       "      <td>A92</td>\n",
       "      <td>A101</td>\n",
       "      <td>...</td>\n",
       "      <td>A121</td>\n",
       "      <td>33</td>\n",
       "      <td>A143</td>\n",
       "      <td>A152</td>\n",
       "      <td>2</td>\n",
       "      <td>A173</td>\n",
       "      <td>2</td>\n",
       "      <td>A191</td>\n",
       "      <td>A201</td>\n",
       "      <td>2</td>\n",
       "    </tr>\n",
       "    <tr>\n",
       "      <th>2</th>\n",
       "      <td>A14</td>\n",
       "      <td>18</td>\n",
       "      <td>A34</td>\n",
       "      <td>A46</td>\n",
       "      <td>3144</td>\n",
       "      <td>A61</td>\n",
       "      <td>A74</td>\n",
       "      <td>3</td>\n",
       "      <td>A93</td>\n",
       "      <td>A101</td>\n",
       "      <td>...</td>\n",
       "      <td>A121</td>\n",
       "      <td>74</td>\n",
       "      <td>A143</td>\n",
       "      <td>A152</td>\n",
       "      <td>2</td>\n",
       "      <td>A172</td>\n",
       "      <td>3</td>\n",
       "      <td>A191</td>\n",
       "      <td>A201</td>\n",
       "      <td>1</td>\n",
       "    </tr>\n",
       "    <tr>\n",
       "      <th>3</th>\n",
       "      <td>A11</td>\n",
       "      <td>63</td>\n",
       "      <td>A32</td>\n",
       "      <td>A42</td>\n",
       "      <td>11823</td>\n",
       "      <td>A61</td>\n",
       "      <td>A74</td>\n",
       "      <td>3</td>\n",
       "      <td>A93</td>\n",
       "      <td>A103</td>\n",
       "      <td>...</td>\n",
       "      <td>A122</td>\n",
       "      <td>68</td>\n",
       "      <td>A143</td>\n",
       "      <td>A153</td>\n",
       "      <td>2</td>\n",
       "      <td>A173</td>\n",
       "      <td>3</td>\n",
       "      <td>A191</td>\n",
       "      <td>A201</td>\n",
       "      <td>1</td>\n",
       "    </tr>\n",
       "    <tr>\n",
       "      <th>4</th>\n",
       "      <td>A11</td>\n",
       "      <td>36</td>\n",
       "      <td>A33</td>\n",
       "      <td>A40</td>\n",
       "      <td>7305</td>\n",
       "      <td>A61</td>\n",
       "      <td>A73</td>\n",
       "      <td>5</td>\n",
       "      <td>A93</td>\n",
       "      <td>A101</td>\n",
       "      <td>...</td>\n",
       "      <td>A124</td>\n",
       "      <td>80</td>\n",
       "      <td>A143</td>\n",
       "      <td>A153</td>\n",
       "      <td>3</td>\n",
       "      <td>A173</td>\n",
       "      <td>3</td>\n",
       "      <td>A191</td>\n",
       "      <td>A201</td>\n",
       "      <td>2</td>\n",
       "    </tr>\n",
       "    <tr>\n",
       "      <th>...</th>\n",
       "      <td>...</td>\n",
       "      <td>...</td>\n",
       "      <td>...</td>\n",
       "      <td>...</td>\n",
       "      <td>...</td>\n",
       "      <td>...</td>\n",
       "      <td>...</td>\n",
       "      <td>...</td>\n",
       "      <td>...</td>\n",
       "      <td>...</td>\n",
       "      <td>...</td>\n",
       "      <td>...</td>\n",
       "      <td>...</td>\n",
       "      <td>...</td>\n",
       "      <td>...</td>\n",
       "      <td>...</td>\n",
       "      <td>...</td>\n",
       "      <td>...</td>\n",
       "      <td>...</td>\n",
       "      <td>...</td>\n",
       "      <td>...</td>\n",
       "    </tr>\n",
       "    <tr>\n",
       "      <th>995</th>\n",
       "      <td>A14</td>\n",
       "      <td>18</td>\n",
       "      <td>A32</td>\n",
       "      <td>A42</td>\n",
       "      <td>2604</td>\n",
       "      <td>A61</td>\n",
       "      <td>A74</td>\n",
       "      <td>5</td>\n",
       "      <td>A92</td>\n",
       "      <td>A101</td>\n",
       "      <td>...</td>\n",
       "      <td>A121</td>\n",
       "      <td>47</td>\n",
       "      <td>A143</td>\n",
       "      <td>A152</td>\n",
       "      <td>2</td>\n",
       "      <td>A172</td>\n",
       "      <td>2</td>\n",
       "      <td>A191</td>\n",
       "      <td>A201</td>\n",
       "      <td>1</td>\n",
       "    </tr>\n",
       "    <tr>\n",
       "      <th>996</th>\n",
       "      <td>A11</td>\n",
       "      <td>45</td>\n",
       "      <td>A32</td>\n",
       "      <td>A41</td>\n",
       "      <td>5786</td>\n",
       "      <td>A61</td>\n",
       "      <td>A73</td>\n",
       "      <td>6</td>\n",
       "      <td>A91</td>\n",
       "      <td>A101</td>\n",
       "      <td>...</td>\n",
       "      <td>A122</td>\n",
       "      <td>60</td>\n",
       "      <td>A143</td>\n",
       "      <td>A152</td>\n",
       "      <td>2</td>\n",
       "      <td>A174</td>\n",
       "      <td>2</td>\n",
       "      <td>A192</td>\n",
       "      <td>A201</td>\n",
       "      <td>1</td>\n",
       "    </tr>\n",
       "    <tr>\n",
       "      <th>997</th>\n",
       "      <td>A14</td>\n",
       "      <td>18</td>\n",
       "      <td>A32</td>\n",
       "      <td>A43</td>\n",
       "      <td>1206</td>\n",
       "      <td>A61</td>\n",
       "      <td>A75</td>\n",
       "      <td>6</td>\n",
       "      <td>A93</td>\n",
       "      <td>A101</td>\n",
       "      <td>...</td>\n",
       "      <td>A123</td>\n",
       "      <td>57</td>\n",
       "      <td>A143</td>\n",
       "      <td>A152</td>\n",
       "      <td>2</td>\n",
       "      <td>A173</td>\n",
       "      <td>2</td>\n",
       "      <td>A191</td>\n",
       "      <td>A201</td>\n",
       "      <td>1</td>\n",
       "    </tr>\n",
       "    <tr>\n",
       "      <th>998</th>\n",
       "      <td>A11</td>\n",
       "      <td>68</td>\n",
       "      <td>A32</td>\n",
       "      <td>A43</td>\n",
       "      <td>2768</td>\n",
       "      <td>A61</td>\n",
       "      <td>A73</td>\n",
       "      <td>6</td>\n",
       "      <td>A93</td>\n",
       "      <td>A101</td>\n",
       "      <td>...</td>\n",
       "      <td>A124</td>\n",
       "      <td>35</td>\n",
       "      <td>A143</td>\n",
       "      <td>A153</td>\n",
       "      <td>2</td>\n",
       "      <td>A173</td>\n",
       "      <td>2</td>\n",
       "      <td>A192</td>\n",
       "      <td>A201</td>\n",
       "      <td>2</td>\n",
       "    </tr>\n",
       "    <tr>\n",
       "      <th>999</th>\n",
       "      <td>A12</td>\n",
       "      <td>68</td>\n",
       "      <td>A34</td>\n",
       "      <td>A41</td>\n",
       "      <td>6864</td>\n",
       "      <td>A62</td>\n",
       "      <td>A71</td>\n",
       "      <td>5</td>\n",
       "      <td>A93</td>\n",
       "      <td>A101</td>\n",
       "      <td>...</td>\n",
       "      <td>A123</td>\n",
       "      <td>41</td>\n",
       "      <td>A143</td>\n",
       "      <td>A152</td>\n",
       "      <td>2</td>\n",
       "      <td>A173</td>\n",
       "      <td>2</td>\n",
       "      <td>A191</td>\n",
       "      <td>A201</td>\n",
       "      <td>1</td>\n",
       "    </tr>\n",
       "  </tbody>\n",
       "</table>\n",
       "<p>1000 rows × 21 columns</p>\n",
       "</div>"
      ],
      "text/plain": [
       "    checkin_acc  duration credit_history purpose  amount svaing_acc  \\\n",
       "0           A11         9            A34     A43    1754        A65   \n",
       "1           A12        72            A32     A43    8927        A61   \n",
       "2           A14        18            A34     A46    3144        A61   \n",
       "3           A11        63            A32     A42   11823        A61   \n",
       "4           A11        36            A33     A40    7305        A61   \n",
       "..          ...       ...            ...     ...     ...        ...   \n",
       "995         A14        18            A32     A42    2604        A61   \n",
       "996         A11        45            A32     A41    5786        A61   \n",
       "997         A14        18            A32     A43    1206        A61   \n",
       "998         A11        68            A32     A43    2768        A61   \n",
       "999         A12        68            A34     A41    6864        A62   \n",
       "\n",
       "    present_emp_since  inst_rate personal_status other_debtors  ...  property  \\\n",
       "0                 A75          6             A93          A101  ...      A121   \n",
       "1                 A73          3             A92          A101  ...      A121   \n",
       "2                 A74          3             A93          A101  ...      A121   \n",
       "3                 A74          3             A93          A103  ...      A122   \n",
       "4                 A73          5             A93          A101  ...      A124   \n",
       "..                ...        ...             ...           ...  ...       ...   \n",
       "995               A74          5             A92          A101  ...      A121   \n",
       "996               A73          6             A91          A101  ...      A122   \n",
       "997               A75          6             A93          A101  ...      A123   \n",
       "998               A73          6             A93          A101  ...      A124   \n",
       "999               A71          5             A93          A101  ...      A123   \n",
       "\n",
       "     age  inst_plans housing num_credits   job dependents  telephone  \\\n",
       "0    101        A143    A152           3  A173          2       A192   \n",
       "1     33        A143    A152           2  A173          2       A191   \n",
       "2     74        A143    A152           2  A172          3       A191   \n",
       "3     68        A143    A153           2  A173          3       A191   \n",
       "4     80        A143    A153           3  A173          3       A191   \n",
       "..   ...         ...     ...         ...   ...        ...        ...   \n",
       "995   47        A143    A152           2  A172          2       A191   \n",
       "996   60        A143    A152           2  A174          2       A192   \n",
       "997   57        A143    A152           2  A173          2       A191   \n",
       "998   35        A143    A153           2  A173          2       A192   \n",
       "999   41        A143    A152           2  A173          2       A191   \n",
       "\n",
       "    foreign_worker status  \n",
       "0             A201      1  \n",
       "1             A201      2  \n",
       "2             A201      1  \n",
       "3             A201      1  \n",
       "4             A201      2  \n",
       "..             ...    ...  \n",
       "995           A201      1  \n",
       "996           A201      1  \n",
       "997           A201      1  \n",
       "998           A201      2  \n",
       "999           A201      1  \n",
       "\n",
       "[1000 rows x 21 columns]"
      ]
     },
     "execution_count": 38,
     "metadata": {},
     "output_type": "execute_result"
    }
   ],
   "source": [
    "DF_Main"
   ]
  },
  {
   "cell_type": "markdown",
   "id": "ce051c49",
   "metadata": {},
   "source": [
    "# Descriptive statistics"
   ]
  },
  {
   "cell_type": "code",
   "execution_count": 39,
   "id": "fe09bd62",
   "metadata": {},
   "outputs": [
    {
     "data": {
      "text/html": [
       "<div>\n",
       "<style scoped>\n",
       "    .dataframe tbody tr th:only-of-type {\n",
       "        vertical-align: middle;\n",
       "    }\n",
       "\n",
       "    .dataframe tbody tr th {\n",
       "        vertical-align: top;\n",
       "    }\n",
       "\n",
       "    .dataframe thead th {\n",
       "        text-align: right;\n",
       "    }\n",
       "</style>\n",
       "<table border=\"1\" class=\"dataframe\">\n",
       "  <thead>\n",
       "    <tr style=\"text-align: right;\">\n",
       "      <th></th>\n",
       "      <th>duration</th>\n",
       "      <th>amount</th>\n",
       "      <th>inst_rate</th>\n",
       "      <th>residing_since</th>\n",
       "      <th>age</th>\n",
       "      <th>num_credits</th>\n",
       "      <th>dependents</th>\n",
       "      <th>status</th>\n",
       "    </tr>\n",
       "  </thead>\n",
       "  <tbody>\n",
       "    <tr>\n",
       "      <th>count</th>\n",
       "      <td>1000.000000</td>\n",
       "      <td>1000.000000</td>\n",
       "      <td>1000.000000</td>\n",
       "      <td>1000.000000</td>\n",
       "      <td>1000.000000</td>\n",
       "      <td>1000.000000</td>\n",
       "      <td>1000.000000</td>\n",
       "      <td>1000.000000</td>\n",
       "    </tr>\n",
       "    <tr>\n",
       "      <th>mean</th>\n",
       "      <td>31.449000</td>\n",
       "      <td>4907.134000</td>\n",
       "      <td>4.606000</td>\n",
       "      <td>4.407000</td>\n",
       "      <td>53.566000</td>\n",
       "      <td>2.441000</td>\n",
       "      <td>2.155000</td>\n",
       "      <td>1.300000</td>\n",
       "    </tr>\n",
       "    <tr>\n",
       "      <th>std</th>\n",
       "      <td>18.055564</td>\n",
       "      <td>4234.100176</td>\n",
       "      <td>1.572016</td>\n",
       "      <td>1.570292</td>\n",
       "      <td>17.065664</td>\n",
       "      <td>0.697858</td>\n",
       "      <td>0.362086</td>\n",
       "      <td>0.458487</td>\n",
       "    </tr>\n",
       "    <tr>\n",
       "      <th>min</th>\n",
       "      <td>6.000000</td>\n",
       "      <td>375.000000</td>\n",
       "      <td>2.000000</td>\n",
       "      <td>2.000000</td>\n",
       "      <td>29.000000</td>\n",
       "      <td>2.000000</td>\n",
       "      <td>2.000000</td>\n",
       "      <td>1.000000</td>\n",
       "    </tr>\n",
       "    <tr>\n",
       "      <th>25%</th>\n",
       "      <td>18.000000</td>\n",
       "      <td>2048.250000</td>\n",
       "      <td>3.000000</td>\n",
       "      <td>3.000000</td>\n",
       "      <td>41.000000</td>\n",
       "      <td>2.000000</td>\n",
       "      <td>2.000000</td>\n",
       "      <td>1.000000</td>\n",
       "    </tr>\n",
       "    <tr>\n",
       "      <th>50%</th>\n",
       "      <td>27.000000</td>\n",
       "      <td>3479.500000</td>\n",
       "      <td>5.000000</td>\n",
       "      <td>5.000000</td>\n",
       "      <td>50.000000</td>\n",
       "      <td>2.000000</td>\n",
       "      <td>2.000000</td>\n",
       "      <td>1.000000</td>\n",
       "    </tr>\n",
       "    <tr>\n",
       "      <th>75%</th>\n",
       "      <td>36.000000</td>\n",
       "      <td>5958.500000</td>\n",
       "      <td>6.000000</td>\n",
       "      <td>6.000000</td>\n",
       "      <td>63.000000</td>\n",
       "      <td>3.000000</td>\n",
       "      <td>2.000000</td>\n",
       "      <td>2.000000</td>\n",
       "    </tr>\n",
       "    <tr>\n",
       "      <th>max</th>\n",
       "      <td>108.000000</td>\n",
       "      <td>27636.000000</td>\n",
       "      <td>6.000000</td>\n",
       "      <td>6.000000</td>\n",
       "      <td>113.000000</td>\n",
       "      <td>6.000000</td>\n",
       "      <td>3.000000</td>\n",
       "      <td>2.000000</td>\n",
       "    </tr>\n",
       "  </tbody>\n",
       "</table>\n",
       "</div>"
      ],
      "text/plain": [
       "          duration        amount    inst_rate  residing_since          age  \\\n",
       "count  1000.000000   1000.000000  1000.000000     1000.000000  1000.000000   \n",
       "mean     31.449000   4907.134000     4.606000        4.407000    53.566000   \n",
       "std      18.055564   4234.100176     1.572016        1.570292    17.065664   \n",
       "min       6.000000    375.000000     2.000000        2.000000    29.000000   \n",
       "25%      18.000000   2048.250000     3.000000        3.000000    41.000000   \n",
       "50%      27.000000   3479.500000     5.000000        5.000000    50.000000   \n",
       "75%      36.000000   5958.500000     6.000000        6.000000    63.000000   \n",
       "max     108.000000  27636.000000     6.000000        6.000000   113.000000   \n",
       "\n",
       "       num_credits   dependents       status  \n",
       "count  1000.000000  1000.000000  1000.000000  \n",
       "mean      2.441000     2.155000     1.300000  \n",
       "std       0.697858     0.362086     0.458487  \n",
       "min       2.000000     2.000000     1.000000  \n",
       "25%       2.000000     2.000000     1.000000  \n",
       "50%       2.000000     2.000000     1.000000  \n",
       "75%       3.000000     2.000000     2.000000  \n",
       "max       6.000000     3.000000     2.000000  "
      ]
     },
     "execution_count": 39,
     "metadata": {},
     "output_type": "execute_result"
    }
   ],
   "source": [
    "DF.describe()"
   ]
  },
  {
   "cell_type": "code",
   "execution_count": 40,
   "id": "b8e057eb",
   "metadata": {},
   "outputs": [
    {
     "data": {
      "text/plain": [
       "Index(['checkin_acc', 'duration', 'credit_history', 'purpose', 'amount',\n",
       "       'svaing_acc', 'present_emp_since', 'inst_rate', 'personal_status',\n",
       "       'other_debtors', 'residing_since', 'property', 'age', 'inst_plans',\n",
       "       'housing', 'num_credits', 'job', 'dependents', 'telephone',\n",
       "       'foreign_worker', 'status'],\n",
       "      dtype='object')"
      ]
     },
     "execution_count": 40,
     "metadata": {},
     "output_type": "execute_result"
    }
   ],
   "source": [
    "DF.columns"
   ]
  },
  {
   "cell_type": "markdown",
   "id": "98493f1b",
   "metadata": {},
   "source": [
    "# missing values"
   ]
  },
  {
   "cell_type": "code",
   "execution_count": 90,
   "id": "67a232c0",
   "metadata": {},
   "outputs": [
    {
     "data": {
      "text/plain": [
       "[]"
      ]
     },
     "execution_count": 90,
     "metadata": {},
     "output_type": "execute_result"
    }
   ],
   "source": [
    "\n",
    "missing_values=[x for x in DF.columns if DF[x].isnull().sum()/len(DF)>0.3]\n",
    "missing_values"
   ]
  },
  {
   "cell_type": "code",
   "execution_count": 88,
   "id": "b3945f83",
   "metadata": {},
   "outputs": [
    {
     "data": {
      "text/plain": [
       "checkin_acc          0\n",
       "duration             0\n",
       "credit_history       0\n",
       "purpose              0\n",
       "amount               0\n",
       "svaing_acc           0\n",
       "present_emp_since    0\n",
       "inst_rate            0\n",
       "personal_status      0\n",
       "other_debtors        0\n",
       "residing_since       0\n",
       "property             0\n",
       "age                  0\n",
       "inst_plans           0\n",
       "housing              0\n",
       "num_credits          0\n",
       "job                  0\n",
       "dependents           0\n",
       "telephone            0\n",
       "foreign_worker       0\n",
       "status               0\n",
       "dtype: int64"
      ]
     },
     "execution_count": 88,
     "metadata": {},
     "output_type": "execute_result"
    }
   ],
   "source": [
    "DF.isnull().sum()"
   ]
  },
  {
   "cell_type": "markdown",
   "id": "f4cd4f8a",
   "metadata": {},
   "source": [
    "# Finding Numeric and Categorial features "
   ]
  },
  {
   "cell_type": "code",
   "execution_count": 122,
   "id": "073ae27d",
   "metadata": {},
   "outputs": [
    {
     "name": "stdout",
     "output_type": "stream",
     "text": [
      "Number of numerical variables:  8\n"
     ]
    },
    {
     "data": {
      "text/plain": [
       "['duration',\n",
       " 'amount',\n",
       " 'inst_rate',\n",
       " 'residing_since',\n",
       " 'age',\n",
       " 'num_credits',\n",
       " 'dependents',\n",
       " 'status']"
      ]
     },
     "execution_count": 122,
     "metadata": {},
     "output_type": "execute_result"
    }
   ],
   "source": [
    "# list of numerical variables\n",
    "numerical_features = [feature for feature in DF_Main.columns if DF_Main[feature].dtypes != 'O']\n",
    "\n",
    "print('Number of numerical variables: ', len(numerical_features))\n",
    "\n",
    "# visualise the numerical variables\n",
    "DF_Main[numerical_features].head()\n",
    "DF_NM=DF[numerical_features]\n",
    "numerical_features"
   ]
  },
  {
   "cell_type": "code",
   "execution_count": 43,
   "id": "82a948c8",
   "metadata": {},
   "outputs": [
    {
     "name": "stdout",
     "output_type": "stream",
     "text": [
      "Number of categorial variables:  13\n"
     ]
    },
    {
     "data": {
      "text/html": [
       "<div>\n",
       "<style scoped>\n",
       "    .dataframe tbody tr th:only-of-type {\n",
       "        vertical-align: middle;\n",
       "    }\n",
       "\n",
       "    .dataframe tbody tr th {\n",
       "        vertical-align: top;\n",
       "    }\n",
       "\n",
       "    .dataframe thead th {\n",
       "        text-align: right;\n",
       "    }\n",
       "</style>\n",
       "<table border=\"1\" class=\"dataframe\">\n",
       "  <thead>\n",
       "    <tr style=\"text-align: right;\">\n",
       "      <th></th>\n",
       "      <th>checkin_acc</th>\n",
       "      <th>credit_history</th>\n",
       "      <th>purpose</th>\n",
       "      <th>svaing_acc</th>\n",
       "      <th>present_emp_since</th>\n",
       "      <th>personal_status</th>\n",
       "      <th>other_debtors</th>\n",
       "      <th>property</th>\n",
       "      <th>inst_plans</th>\n",
       "      <th>housing</th>\n",
       "      <th>job</th>\n",
       "      <th>telephone</th>\n",
       "      <th>foreign_worker</th>\n",
       "    </tr>\n",
       "  </thead>\n",
       "  <tbody>\n",
       "    <tr>\n",
       "      <th>0</th>\n",
       "      <td>A11</td>\n",
       "      <td>A34</td>\n",
       "      <td>A43</td>\n",
       "      <td>A65</td>\n",
       "      <td>A75</td>\n",
       "      <td>A93</td>\n",
       "      <td>A101</td>\n",
       "      <td>A121</td>\n",
       "      <td>A143</td>\n",
       "      <td>A152</td>\n",
       "      <td>A173</td>\n",
       "      <td>A192</td>\n",
       "      <td>A201</td>\n",
       "    </tr>\n",
       "    <tr>\n",
       "      <th>1</th>\n",
       "      <td>A12</td>\n",
       "      <td>A32</td>\n",
       "      <td>A43</td>\n",
       "      <td>A61</td>\n",
       "      <td>A73</td>\n",
       "      <td>A92</td>\n",
       "      <td>A101</td>\n",
       "      <td>A121</td>\n",
       "      <td>A143</td>\n",
       "      <td>A152</td>\n",
       "      <td>A173</td>\n",
       "      <td>A191</td>\n",
       "      <td>A201</td>\n",
       "    </tr>\n",
       "    <tr>\n",
       "      <th>2</th>\n",
       "      <td>A14</td>\n",
       "      <td>A34</td>\n",
       "      <td>A46</td>\n",
       "      <td>A61</td>\n",
       "      <td>A74</td>\n",
       "      <td>A93</td>\n",
       "      <td>A101</td>\n",
       "      <td>A121</td>\n",
       "      <td>A143</td>\n",
       "      <td>A152</td>\n",
       "      <td>A172</td>\n",
       "      <td>A191</td>\n",
       "      <td>A201</td>\n",
       "    </tr>\n",
       "    <tr>\n",
       "      <th>3</th>\n",
       "      <td>A11</td>\n",
       "      <td>A32</td>\n",
       "      <td>A42</td>\n",
       "      <td>A61</td>\n",
       "      <td>A74</td>\n",
       "      <td>A93</td>\n",
       "      <td>A103</td>\n",
       "      <td>A122</td>\n",
       "      <td>A143</td>\n",
       "      <td>A153</td>\n",
       "      <td>A173</td>\n",
       "      <td>A191</td>\n",
       "      <td>A201</td>\n",
       "    </tr>\n",
       "    <tr>\n",
       "      <th>4</th>\n",
       "      <td>A11</td>\n",
       "      <td>A33</td>\n",
       "      <td>A40</td>\n",
       "      <td>A61</td>\n",
       "      <td>A73</td>\n",
       "      <td>A93</td>\n",
       "      <td>A101</td>\n",
       "      <td>A124</td>\n",
       "      <td>A143</td>\n",
       "      <td>A153</td>\n",
       "      <td>A173</td>\n",
       "      <td>A191</td>\n",
       "      <td>A201</td>\n",
       "    </tr>\n",
       "  </tbody>\n",
       "</table>\n",
       "</div>"
      ],
      "text/plain": [
       "  checkin_acc credit_history purpose svaing_acc present_emp_since  \\\n",
       "0         A11            A34     A43        A65               A75   \n",
       "1         A12            A32     A43        A61               A73   \n",
       "2         A14            A34     A46        A61               A74   \n",
       "3         A11            A32     A42        A61               A74   \n",
       "4         A11            A33     A40        A61               A73   \n",
       "\n",
       "  personal_status other_debtors property inst_plans housing   job telephone  \\\n",
       "0             A93          A101     A121       A143    A152  A173      A192   \n",
       "1             A92          A101     A121       A143    A152  A173      A191   \n",
       "2             A93          A101     A121       A143    A152  A172      A191   \n",
       "3             A93          A103     A122       A143    A153  A173      A191   \n",
       "4             A93          A101     A124       A143    A153  A173      A191   \n",
       "\n",
       "  foreign_worker  \n",
       "0           A201  \n",
       "1           A201  \n",
       "2           A201  \n",
       "3           A201  \n",
       "4           A201  "
      ]
     },
     "execution_count": 43,
     "metadata": {},
     "output_type": "execute_result"
    }
   ],
   "source": [
    "# list of Categorial variables\n",
    "cat_features = [feature for feature in DF_Main.columns if DF_Main[feature].dtypes == 'O']\n",
    "\n",
    "print('Number of categorial variables: ', len(cat_features))\n",
    "\n",
    "# visualise the categorial variables\n",
    "DF_Main[cat_features].head()"
   ]
  },
  {
   "cell_type": "code",
   "execution_count": 44,
   "id": "189c239f",
   "metadata": {},
   "outputs": [
    {
     "name": "stdout",
     "output_type": "stream",
     "text": [
      "[checkin_acc] [4] ['A11' 'A12' 'A14' 'A13']\n",
      "[credit_history] [5] ['A34' 'A32' 'A33' 'A30' 'A31']\n",
      "[purpose] [10] ['A43' 'A46' 'A42' 'A40' 'A41' 'A49' 'A44' 'A45' 'A410' 'A48']\n",
      "[svaing_acc] [5] ['A65' 'A61' 'A63' 'A64' 'A62']\n",
      "[present_emp_since] [5] ['A75' 'A73' 'A74' 'A71' 'A72']\n",
      "[personal_status] [4] ['A93' 'A92' 'A91' 'A94']\n",
      "[other_debtors] [3] ['A101' 'A103' 'A102']\n",
      "[property] [4] ['A121' 'A122' 'A124' 'A123']\n",
      "[inst_plans] [3] ['A143' 'A141' 'A142']\n",
      "[housing] [3] ['A152' 'A153' 'A151']\n",
      "[job] [4] ['A173' 'A172' 'A174' 'A171']\n",
      "[telephone] [2] ['A192' 'A191']\n",
      "[foreign_worker] [2] ['A201' 'A202']\n"
     ]
    }
   ],
   "source": [
    "# description of categorial features\n",
    "for feature in cat_features:\n",
    "    print('[{}] [{}] {}'.format(feature,len(DF_Main[feature].unique()),(DF_Main[feature].unique())))"
   ]
  },
  {
   "cell_type": "markdown",
   "id": "687a55bb",
   "metadata": {},
   "source": [
    "# EDA"
   ]
  },
  {
   "cell_type": "code",
   "execution_count": 45,
   "id": "18fa2a28",
   "metadata": {},
   "outputs": [
    {
     "data": {
      "text/plain": [
       "<seaborn.axisgrid.FacetGrid at 0x2001446c400>"
      ]
     },
     "execution_count": 45,
     "metadata": {},
     "output_type": "execute_result"
    },
    {
     "data": {
      "image/png": "[encoded data removed]",
      "text/plain": [
       "<Figure size 360x360 with 1 Axes>"
      ]
     },
     "metadata": {
      "needs_background": "light"
     },
     "output_type": "display_data"
    }
   ],
   "source": [
    "# Checking the distribution of Dependent Class\n",
    "sns.catplot(x='status', data = DF, kind = 'count')"
   ]
  },
  {
   "cell_type": "code",
   "execution_count": 121,
   "id": "43c189b4",
   "metadata": {},
   "outputs": [
    {
     "data": {
      "image/png": "[encoded data removed]",
      "text/plain": [
       "<Figure size 1080x576 with 9 Axes>"
      ]
     },
     "metadata": {
      "needs_background": "light"
     },
     "output_type": "display_data"
    }
   ],
   "source": [
    "\n",
    "DF_Main.hist(figsize=(15,8),bins = 15)\n",
    "plt.title(\"Features Distribution\")\n",
    "plt.show()"
   ]
  },
  {
   "cell_type": "markdown",
   "id": "8ac7d3a8",
   "metadata": {},
   "source": [
    "# Check how differnt numerical features are realated to Dependendent variable(STATUS)"
   ]
  },
  {
   "cell_type": "code",
   "execution_count": 47,
   "id": "3e29e83f",
   "metadata": {},
   "outputs": [],
   "source": [
    "import math"
   ]
  },
  {
   "cell_type": "code",
   "execution_count": 48,
   "id": "febd7e16",
   "metadata": {},
   "outputs": [
    {
     "data": {
      "image/png": "[encoded data removed]",
      "text/plain": [
       "<Figure size 864x576 with 9 Axes>"
      ]
     },
     "metadata": {
      "needs_background": "light"
     },
     "output_type": "display_data"
    }
   ],
   "source": [
    "# Number of rows and columns in the plot\n",
    "numerical_features.remove('status')\n",
    "n_cols = 3\n",
    "n_rows = math.ceil(len(numerical_features)/n_cols)\n",
    "# Check the distribution of y variable corresponding to every x variable \n",
    "fig,ax = plt.subplots(nrows = n_rows, ncols = n_cols, figsize=(12,8))\n",
    "row = 0\n",
    "col = 0\n",
    "for i in numerical_features:\n",
    "    if col > 2:\n",
    "        row += 1\n",
    "        col = 0\n",
    "    axes = ax[row,col]\n",
    "    sns.boxplot(x = DF['status'], y = DF[i],ax = axes)\n",
    "    col += 1\n",
    "plt.tight_layout()\n",
    "plt.title(\"Individual Features by Class\")\n",
    "plt.show()"
   ]
  },
  {
   "cell_type": "code",
   "execution_count": 49,
   "id": "fecec30a",
   "metadata": {
    "scrolled": false
   },
   "outputs": [
    {
     "data": {
      "image/png": "[encoded data removed]",
      "text/plain": [
       "<Figure size 360x360 with 1 Axes>"
      ]
     },
     "metadata": {
      "needs_background": "light"
     },
     "output_type": "display_data"
    },
    {
     "data": {
      "image/png": "[encoded data removed]",
      "text/plain": [
       "<Figure size 360x360 with 1 Axes>"
      ]
     },
     "metadata": {
      "needs_background": "light"
     },
     "output_type": "display_data"
    },
    {
     "data": {
      "image/png": "[encoded data removed]",
      "text/plain": [
       "<Figure size 360x360 with 1 Axes>"
      ]
     },
     "metadata": {
      "needs_background": "light"
     },
     "output_type": "display_data"
    },
    {
     "data": {
      "image/png": "[encoded data removed]",
      "text/plain": [
       "<Figure size 360x360 with 1 Axes>"
      ]
     },
     "metadata": {
      "needs_background": "light"
     },
     "output_type": "display_data"
    },
    {
     "data": {
      "image/png": "[encoded data removed]",
      "text/plain": [
       "<Figure size 360x360 with 1 Axes>"
      ]
     },
     "metadata": {
      "needs_background": "light"
     },
     "output_type": "display_data"
    },
    {
     "data": {
      "image/png": "[encoded data removed]",
      "text/plain": [
       "<Figure size 360x360 with 1 Axes>"
      ]
     },
     "metadata": {
      "needs_background": "light"
     },
     "output_type": "display_data"
    },
    {
     "data": {
      "image/png": "[encoded data removed]",
      "text/plain": [
       "<Figure size 360x360 with 1 Axes>"
      ]
     },
     "metadata": {
      "needs_background": "light"
     },
     "output_type": "display_data"
    }
   ],
   "source": [
    "for feature in numerical_features:\n",
    "    plot = plt.figure(figsize=(5,5))\n",
    "    sns.barplot(x='status', y = feature, data = DF)"
   ]
  },
  {
   "cell_type": "markdown",
   "id": "265a92e0",
   "metadata": {},
   "source": [
    "# Encoding the categorial features"
   ]
  },
  {
   "cell_type": "code",
   "execution_count": 50,
   "id": "d4fcf7ef",
   "metadata": {},
   "outputs": [],
   "source": [
    "for feature in cat_features:\n",
    "    oe = LabelEncoder()\n",
    "    DF[feature] = oe.fit_transform(DF[feature])"
   ]
  },
  {
   "cell_type": "code",
   "execution_count": 51,
   "id": "afe7f29d",
   "metadata": {},
   "outputs": [],
   "source": [
    "correlation = DF.corr()"
   ]
  },
  {
   "cell_type": "code",
   "execution_count": 123,
   "id": "f85ff232",
   "metadata": {},
   "outputs": [
    {
     "data": {
      "text/plain": [
       "<AxesSubplot:>"
      ]
     },
     "execution_count": 123,
     "metadata": {},
     "output_type": "execute_result"
    },
    {
     "data": {
      "image/png": "[encoded data removed]",
      "text/plain": [
       "<Figure size 864x576 with 2 Axes>"
      ]
     },
     "metadata": {
      "needs_background": "light"
     },
     "output_type": "display_data"
    }
   ],
   "source": [
    "# constructing a heatmap to understand the correlation between the columns\n",
    "plt.figure(figsize=(12,8))\n",
    "sns.heatmap(correlation, cbar=True, square=True, fmt = '.1f', annot = True, annot_kws={'size':8}, cmap = 'Blues')"
   ]
  },
  {
   "cell_type": "markdown",
   "id": "5ec3a5d9",
   "metadata": {},
   "source": [
    "# DATA PREPROCESSING"
   ]
  },
  {
   "cell_type": "code",
   "execution_count": 53,
   "id": "374054cf",
   "metadata": {},
   "outputs": [],
   "source": [
    "# separate the data and Label\n",
    "X = DF.drop('status',axis=1)\n",
    "Y=DF['status']"
   ]
  },
  {
   "cell_type": "code",
   "execution_count": 54,
   "id": "732f5332",
   "metadata": {},
   "outputs": [
    {
     "name": "stdout",
     "output_type": "stream",
     "text": [
      "(1000,) (800,) (200,)\n"
     ]
    }
   ],
   "source": [
    "X_train, X_test, Y_train, Y_test = train_test_split(X, Y, test_size=0.2, random_state=0)\n",
    "print(Y.shape, Y_train.shape, Y_test.shape)"
   ]
  },
  {
   "cell_type": "markdown",
   "id": "2dbfffd5",
   "metadata": {},
   "source": [
    "# Feature selection"
   ]
  },
  {
   "cell_type": "code",
   "execution_count": 56,
   "id": "1d7a3f7b",
   "metadata": {},
   "outputs": [
    {
     "data": {
      "text/plain": [
       "array([0.05670406, 0.03738093, 0.02766961, 0.01937102, 0.03749226,\n",
       "       0.02934752, 0.        , 0.        , 0.        , 0.        ,\n",
       "       0.        , 0.03444411, 0.00480666, 0.01309836, 0.        ,\n",
       "       0.00679553, 0.        , 0.        , 0.02602283, 0.        ])"
      ]
     },
     "execution_count": 56,
     "metadata": {},
     "output_type": "execute_result"
    }
   ],
   "source": [
    "from sklearn.feature_selection import mutual_info_classif\n",
    "# determine the mutual information\n",
    "mutual_info = mutual_info_classif(X_train, Y_train)\n",
    "mutual_info"
   ]
  },
  {
   "cell_type": "code",
   "execution_count": 57,
   "id": "6f1e7ac5",
   "metadata": {},
   "outputs": [
    {
     "data": {
      "text/plain": [
       "checkin_acc          0.056704\n",
       "amount               0.037492\n",
       "duration             0.037381\n",
       "property             0.034444\n",
       "svaing_acc           0.029348\n",
       "credit_history       0.027670\n",
       "telephone            0.026023\n",
       "purpose              0.019371\n",
       "inst_plans           0.013098\n",
       "num_credits          0.006796\n",
       "age                  0.004807\n",
       "housing              0.000000\n",
       "dependents           0.000000\n",
       "job                  0.000000\n",
       "residing_since       0.000000\n",
       "other_debtors        0.000000\n",
       "personal_status      0.000000\n",
       "inst_rate            0.000000\n",
       "present_emp_since    0.000000\n",
       "foreign_worker       0.000000\n",
       "dtype: float64"
      ]
     },
     "execution_count": 57,
     "metadata": {},
     "output_type": "execute_result"
    }
   ],
   "source": [
    "mutual_info = pd.Series(mutual_info)\n",
    "mutual_info.index = X_train.columns\n",
    "mutual_info.sort_values(ascending=False)"
   ]
  },
  {
   "cell_type": "code",
   "execution_count": 58,
   "id": "42f70ba8",
   "metadata": {},
   "outputs": [
    {
     "data": {
      "text/plain": [
       "<AxesSubplot:>"
      ]
     },
     "execution_count": 58,
     "metadata": {},
     "output_type": "execute_result"
    },
    {
     "data": {
      "image/png": "[encoded data removed]",
      "text/plain": [
       "<Figure size 1440x576 with 1 Axes>"
      ]
     },
     "metadata": {
      "needs_background": "light"
     },
     "output_type": "display_data"
    }
   ],
   "source": [
    " #let's plot the ordered mutual_info values per feature\n",
    "mutual_info.sort_values(ascending=False).plot.bar(figsize=(20, 8))"
   ]
  },
  {
   "cell_type": "code",
   "execution_count": 59,
   "id": "96bfba5e",
   "metadata": {},
   "outputs": [
    {
     "data": {
      "text/plain": [
       "Index(['checkin_acc', 'duration', 'credit_history', 'purpose', 'amount',\n",
       "       'svaing_acc', 'present_emp_since', 'personal_status', 'other_debtors',\n",
       "       'residing_since', 'property', 'housing', 'telephone', 'foreign_worker'],\n",
       "      dtype='object')"
      ]
     },
     "execution_count": 59,
     "metadata": {},
     "output_type": "execute_result"
    }
   ],
   "source": [
    "from sklearn.feature_selection import SelectKBest\n",
    "\n",
    "#No we Will select the  top 12 important features\n",
    "sel_ten_cols = SelectKBest(mutual_info_classif, k=14)\n",
    "sel_ten_cols.fit(X_train, Y_train)\n",
    "X_train.columns[sel_ten_cols.get_support()]"
   ]
  },
  {
   "cell_type": "code",
   "execution_count": 60,
   "id": "bcfd878c",
   "metadata": {},
   "outputs": [],
   "source": [
    "X_new =DF[X_train.columns[sel_ten_cols.get_support()]]\n"
   ]
  },
  {
   "cell_type": "code",
   "execution_count": 61,
   "id": "127737be",
   "metadata": {},
   "outputs": [],
   "source": [
    "X_train, X_test, Y_train, Y_test = train_test_split(X_new, Y, test_size=0.5, random_state=0)"
   ]
  },
  {
   "cell_type": "markdown",
   "id": "93f30748",
   "metadata": {},
   "source": [
    "# Model Selection"
   ]
  },
  {
   "cell_type": "markdown",
   "id": "e3880a8f",
   "metadata": {},
   "source": [
    "  model= RandomForestClassifier()\n",
    "    model.fit(X_train, Y_train)\n",
    "    # accuracy score on training data\n",
    "    X_train_prediction = model.predict(X_train)\n",
    "    training_data_accuracy = accuracy_score(Y_train, X_train_prediction)\n",
    "    # accuracy on test data\n",
    "    X_test_prediction = model.predict(X_test)\n",
    "    test_data_accuracy = accuracy_score(X_test_prediction, Y_test)\n",
    "    # recall score \n",
    "    training_data_recall = recall_score(Y_train, X_train_prediction)\n",
    "    test_data_recall = recall_score(Y_test, X_test_prediction)\n",
    "    \n",
    "    print('Accuracy and recall scores  of training data of model are : ',model , training_data_accuracy , training_data_recall)\n",
    "    print('Accuracy and recall scores of model are : ',model, test_data_accuracy,test_data_recall)\n",
    "    print('confusion matix of model  : ',model, confusion_matrix(Y_test,X_test_prediction ))"
   ]
  },
  {
   "cell_type": "markdown",
   "id": "0f752544",
   "metadata": {},
   "source": [
    "model= LogisticRegression()\n",
    "model.fit(X_train, Y_train)\n",
    "#accuracy score on training data\n",
    "X_train_prediction = model.predict(X_train)\n",
    "training_data_accuracy = accuracy_score(Y_train, X_train_prediction)\n",
    "#accuracy on test data\n",
    "X_test_prediction = model.predict(X_test)\n",
    "test_data_accuracy = accuracy_score(X_test_prediction, Y_test)\n",
    "#recall score \n",
    "training_data_recall = recall_score(Y_train, X_train_prediction)\n",
    "test_data_recall = recall_score(Y_test, X_test_prediction)\n",
    "\n",
    "print('Accuracy and recall scores  of training data of model are : ',model , training_data_accuracy , training_data_recall)\n",
    "print('Accuracy and recall scores of model are : ',model, test_data_accuracy,test_data_recall)\n",
    "print('confusion matix of model  : ',model, confusion_matrix(Y_test,X_test_prediction ))"
   ]
  },
  {
   "cell_type": "markdown",
   "id": "a6b674ed",
   "metadata": {},
   "source": [
    "model= GaussianNB()\n",
    "model.fit(X_train, Y_train)\n",
    " accuracy score on training data\n",
    "X_train_prediction = model.predict(X_train)\n",
    "training_data_accuracy = accuracy_score(Y_train, X_train_prediction)\n",
    "#accuracy on test data\n",
    "X_test_prediction = model.predict(X_test)\n",
    "test_data_accuracy = accuracy_score(X_test_prediction, Y_test)\n",
    "#recall score \n",
    "training_data_recall = recall_score(Y_train, X_train_prediction)\n",
    "test_data_recall = recall_score(Y_test, X_test_prediction)"
   ]
  },
  {
   "cell_type": "markdown",
   "id": "a3155b08",
   "metadata": {},
   "source": [
    "model= SVC(kernel='linear')\n",
    "    model.fit(X_train, Y_train)\n",
    "    # accuracy score on training data\n",
    "    X_train_prediction = model.predict(X_train)\n",
    "    training_data_accuracy = accuracy_score(Y_train, X_train_prediction)\n",
    "    # accuracy on test data\n",
    "    X_test_prediction = model.predict(X_test)\n",
    "    test_data_accuracy = accuracy_score(X_test_prediction, Y_test)\n",
    "    # recall score \n",
    "    training_data_recall = recall_score(Y_train, X_train_prediction)\n",
    "    test_data_recall = recall_score(Y_test, X_test_prediction)\n",
    "    \n",
    "    print('Accuracy and recall scores  of training data of model are : ',model , training_data_accuracy , training_data_recall)\n",
    "    print('Accuracy and recall scores of model are : ',model, test_data_accuracy,test_data_recall)\n",
    "    print('confusion matix of model  : ',model, confusion_matrix(Y_test,X_test_prediction ))"
   ]
  },
  {
   "cell_type": "markdown",
   "id": "314f7da8",
   "metadata": {},
   "source": [
    "    model= AdaBoostClassifier()\n",
    "    model.fit(X_train, Y_train)\n",
    "    # accuracy score on training data\n",
    "    X_train_prediction = model.predict(X_train)\n",
    "    training_data_accuracy = accuracy_score(Y_train, X_train_prediction)\n",
    "    # accuracy on test data\n",
    "    X_test_prediction = model.predict(X_test)\n",
    "    test_data_accuracy = accuracy_score(X_test_prediction, Y_test)\n",
    "    # recall score \n",
    "    training_data_recall = recall_score(Y_train, X_train_prediction)\n",
    "    test_data_recall = recall_score(Y_test, X_test_prediction)\n",
    "    \n",
    "    print('Accuracy and recall scores  of training data of model are : ',model , training_data_accuracy , training_data_recall)\n",
    "    print('Accuracy and recall scores of model are : ',model, test_data_accuracy,test_data_recall)\n",
    "    print('confusion matix of model  : ',model, confusion_matrix(Y_test,X_test_prediction ))"
   ]
  },
  {
   "cell_type": "code",
   "execution_count": 62,
   "id": "d5a48171",
   "metadata": {},
   "outputs": [],
   "source": [
    "# selected model -  Grdaient Boosting"
   ]
  },
  {
   "cell_type": "code",
   "execution_count": 124,
   "id": "04d52c1f",
   "metadata": {},
   "outputs": [
    {
     "name": "stdout",
     "output_type": "stream",
     "text": [
      "Accuracy and recall scores  of training data of model are :  GradientBoostingClassifier() 0.922 0.9857142857142858\n",
      "Accuracy and recall scores of model are :  GradientBoostingClassifier() 0.778 0.9028571428571428\n",
      "confusion matix of model  :  GradientBoostingClassifier() [[316  34]\n",
      " [ 77  73]]\n"
     ]
    }
   ],
   "source": [
    "    model= GradientBoostingClassifier()\n",
    "    model.fit(X_train, Y_train)\n",
    "    # accuracy score on training data\n",
    "    X_train_prediction = model.predict(X_train)\n",
    "    training_data_accuracy = accuracy_score(Y_train, X_train_prediction)\n",
    "    # accuracy on test data\n",
    "    X_test_prediction = model.predict(X_test)\n",
    "    test_data_accuracy = accuracy_score(X_test_prediction, Y_test)\n",
    "    # recall score \n",
    "    training_data_recall = recall_score(Y_train, X_train_prediction)\n",
    "    test_data_recall = recall_score(Y_test, X_test_prediction)\n",
    "    \n",
    "    print('Accuracy and recall scores  of training data of model are : ',model , training_data_accuracy , training_data_recall)\n",
    "    print('Accuracy and recall scores of model are : ',model, test_data_accuracy,test_data_recall)\n",
    "    print('confusion matix of model  : ',model, confusion_matrix(Y_test,X_test_prediction ))"
   ]
  },
  {
   "cell_type": "markdown",
   "id": "756f99c5",
   "metadata": {},
   "source": [
    "# Hyperparameytric tuning using GridsearchCV"
   ]
  },
  {
   "cell_type": "code",
   "execution_count": 66,
   "id": "4760ca72",
   "metadata": {},
   "outputs": [],
   "source": [
    "gbc = GradientBoostingClassifier()\n",
    "parameters = {\n",
    "    \"n_estimators\":[5,50,250,500],\n",
    "    \"max_depth\":[1,3,5,7,9],\n",
    "    \"learning_rate\":[0.01,0.1,1,10,100]}"
   ]
  },
  {
   "cell_type": "code",
   "execution_count": 67,
   "id": "5c0d1544",
   "metadata": {},
   "outputs": [
    {
     "data": {
      "text/plain": [
       "GridSearchCV(cv=10, estimator=GradientBoostingClassifier(),\n",
       "             param_grid={'learning_rate': [0.01, 0.1, 1, 10, 100],\n",
       "                         'max_depth': [1, 3, 5, 7, 9],\n",
       "                         'n_estimators': [5, 50, 250, 500]})"
      ]
     },
     "execution_count": 67,
     "metadata": {},
     "output_type": "execute_result"
    }
   ],
   "source": [
    "from sklearn.model_selection import GridSearchCV\n",
    "cv = GridSearchCV(gbc,parameters,cv=10)\n",
    "cv.fit(X_train,Y_train)"
   ]
  },
  {
   "cell_type": "code",
   "execution_count": 68,
   "id": "c1fc9a27",
   "metadata": {},
   "outputs": [],
   "source": [
    "def display(results):\n",
    "    print(f'Best parameters are: {results.best_params_}')\n",
    "    print(\"\\n\")\n",
    "    mean_score = results.cv_results_['mean_test_score']\n",
    "    std_score = results.cv_results_['std_test_score']\n",
    "    params = results.cv_results_['params']\n",
    "    for mean,std,params in zip(mean_score,std_score,params):\n",
    "        print(f'{round(mean,3)} + or -{round(std,3)} for the {params}')"
   ]
  },
  {
   "cell_type": "code",
   "execution_count": 69,
   "id": "a6a41c06",
   "metadata": {},
   "outputs": [
    {
     "name": "stdout",
     "output_type": "stream",
     "text": [
      "Best parameters are: {'learning_rate': 0.1, 'max_depth': 1, 'n_estimators': 250}\n",
      "\n",
      "\n",
      "0.7 + or -0.0 for the {'learning_rate': 0.01, 'max_depth': 1, 'n_estimators': 5}\n",
      "0.7 + or -0.0 for the {'learning_rate': 0.01, 'max_depth': 1, 'n_estimators': 50}\n",
      "0.72 + or -0.027 for the {'learning_rate': 0.01, 'max_depth': 1, 'n_estimators': 250}\n",
      "0.728 + or -0.034 for the {'learning_rate': 0.01, 'max_depth': 1, 'n_estimators': 500}\n",
      "0.7 + or -0.0 for the {'learning_rate': 0.01, 'max_depth': 3, 'n_estimators': 5}\n",
      "0.706 + or -0.013 for the {'learning_rate': 0.01, 'max_depth': 3, 'n_estimators': 50}\n",
      "0.736 + or -0.025 for the {'learning_rate': 0.01, 'max_depth': 3, 'n_estimators': 250}\n",
      "0.756 + or -0.038 for the {'learning_rate': 0.01, 'max_depth': 3, 'n_estimators': 500}\n",
      "0.7 + or -0.0 for the {'learning_rate': 0.01, 'max_depth': 5, 'n_estimators': 5}\n",
      "0.706 + or -0.028 for the {'learning_rate': 0.01, 'max_depth': 5, 'n_estimators': 50}\n",
      "0.762 + or -0.046 for the {'learning_rate': 0.01, 'max_depth': 5, 'n_estimators': 250}\n",
      "0.76 + or -0.044 for the {'learning_rate': 0.01, 'max_depth': 5, 'n_estimators': 500}\n",
      "0.7 + or -0.0 for the {'learning_rate': 0.01, 'max_depth': 7, 'n_estimators': 5}\n",
      "0.706 + or -0.045 for the {'learning_rate': 0.01, 'max_depth': 7, 'n_estimators': 50}\n",
      "0.742 + or -0.078 for the {'learning_rate': 0.01, 'max_depth': 7, 'n_estimators': 250}\n",
      "0.746 + or -0.07 for the {'learning_rate': 0.01, 'max_depth': 7, 'n_estimators': 500}\n",
      "0.7 + or -0.0 for the {'learning_rate': 0.01, 'max_depth': 9, 'n_estimators': 5}\n",
      "0.69 + or -0.046 for the {'learning_rate': 0.01, 'max_depth': 9, 'n_estimators': 50}\n",
      "0.702 + or -0.065 for the {'learning_rate': 0.01, 'max_depth': 9, 'n_estimators': 250}\n",
      "0.704 + or -0.065 for the {'learning_rate': 0.01, 'max_depth': 9, 'n_estimators': 500}\n",
      "0.7 + or -0.0 for the {'learning_rate': 0.1, 'max_depth': 1, 'n_estimators': 5}\n",
      "0.732 + or -0.032 for the {'learning_rate': 0.1, 'max_depth': 1, 'n_estimators': 50}\n",
      "0.774 + or -0.049 for the {'learning_rate': 0.1, 'max_depth': 1, 'n_estimators': 250}\n",
      "0.758 + or -0.056 for the {'learning_rate': 0.1, 'max_depth': 1, 'n_estimators': 500}\n",
      "0.71 + or -0.016 for the {'learning_rate': 0.1, 'max_depth': 3, 'n_estimators': 5}\n",
      "0.754 + or -0.031 for the {'learning_rate': 0.1, 'max_depth': 3, 'n_estimators': 50}\n",
      "0.758 + or -0.059 for the {'learning_rate': 0.1, 'max_depth': 3, 'n_estimators': 250}\n",
      "0.754 + or -0.051 for the {'learning_rate': 0.1, 'max_depth': 3, 'n_estimators': 500}\n",
      "0.706 + or -0.028 for the {'learning_rate': 0.1, 'max_depth': 5, 'n_estimators': 5}\n",
      "0.754 + or -0.044 for the {'learning_rate': 0.1, 'max_depth': 5, 'n_estimators': 50}\n",
      "0.74 + or -0.063 for the {'learning_rate': 0.1, 'max_depth': 5, 'n_estimators': 250}\n",
      "0.736 + or -0.054 for the {'learning_rate': 0.1, 'max_depth': 5, 'n_estimators': 500}\n",
      "0.712 + or -0.029 for the {'learning_rate': 0.1, 'max_depth': 7, 'n_estimators': 5}\n",
      "0.758 + or -0.064 for the {'learning_rate': 0.1, 'max_depth': 7, 'n_estimators': 50}\n",
      "0.748 + or -0.064 for the {'learning_rate': 0.1, 'max_depth': 7, 'n_estimators': 250}\n",
      "0.734 + or -0.059 for the {'learning_rate': 0.1, 'max_depth': 7, 'n_estimators': 500}\n",
      "0.698 + or -0.049 for the {'learning_rate': 0.1, 'max_depth': 9, 'n_estimators': 5}\n",
      "0.734 + or -0.066 for the {'learning_rate': 0.1, 'max_depth': 9, 'n_estimators': 50}\n",
      "0.758 + or -0.065 for the {'learning_rate': 0.1, 'max_depth': 9, 'n_estimators': 250}\n",
      "0.744 + or -0.064 for the {'learning_rate': 0.1, 'max_depth': 9, 'n_estimators': 500}\n",
      "0.726 + or -0.035 for the {'learning_rate': 1, 'max_depth': 1, 'n_estimators': 5}\n",
      "0.746 + or -0.068 for the {'learning_rate': 1, 'max_depth': 1, 'n_estimators': 50}\n",
      "0.746 + or -0.055 for the {'learning_rate': 1, 'max_depth': 1, 'n_estimators': 250}\n",
      "0.734 + or -0.055 for the {'learning_rate': 1, 'max_depth': 1, 'n_estimators': 500}\n",
      "0.74 + or -0.052 for the {'learning_rate': 1, 'max_depth': 3, 'n_estimators': 5}\n",
      "0.712 + or -0.055 for the {'learning_rate': 1, 'max_depth': 3, 'n_estimators': 50}\n",
      "0.714 + or -0.048 for the {'learning_rate': 1, 'max_depth': 3, 'n_estimators': 250}\n",
      "0.726 + or -0.047 for the {'learning_rate': 1, 'max_depth': 3, 'n_estimators': 500}\n",
      "0.696 + or -0.05 for the {'learning_rate': 1, 'max_depth': 5, 'n_estimators': 5}\n",
      "0.716 + or -0.058 for the {'learning_rate': 1, 'max_depth': 5, 'n_estimators': 50}\n",
      "0.736 + or -0.056 for the {'learning_rate': 1, 'max_depth': 5, 'n_estimators': 250}\n",
      "0.748 + or -0.049 for the {'learning_rate': 1, 'max_depth': 5, 'n_estimators': 500}\n",
      "0.718 + or -0.066 for the {'learning_rate': 1, 'max_depth': 7, 'n_estimators': 5}\n",
      "0.742 + or -0.055 for the {'learning_rate': 1, 'max_depth': 7, 'n_estimators': 50}\n",
      "0.738 + or -0.045 for the {'learning_rate': 1, 'max_depth': 7, 'n_estimators': 250}\n",
      "0.728 + or -0.039 for the {'learning_rate': 1, 'max_depth': 7, 'n_estimators': 500}\n",
      "0.692 + or -0.066 for the {'learning_rate': 1, 'max_depth': 9, 'n_estimators': 5}\n",
      "0.746 + or -0.042 for the {'learning_rate': 1, 'max_depth': 9, 'n_estimators': 50}\n",
      "0.726 + or -0.02 for the {'learning_rate': 1, 'max_depth': 9, 'n_estimators': 250}\n",
      "0.724 + or -0.031 for the {'learning_rate': 1, 'max_depth': 9, 'n_estimators': 500}\n",
      "0.362 + or -0.038 for the {'learning_rate': 10, 'max_depth': 1, 'n_estimators': 5}\n",
      "0.362 + or -0.038 for the {'learning_rate': 10, 'max_depth': 1, 'n_estimators': 50}\n",
      "0.362 + or -0.038 for the {'learning_rate': 10, 'max_depth': 1, 'n_estimators': 250}\n",
      "0.362 + or -0.038 for the {'learning_rate': 10, 'max_depth': 1, 'n_estimators': 500}\n",
      "0.39 + or -0.118 for the {'learning_rate': 10, 'max_depth': 3, 'n_estimators': 5}\n",
      "0.388 + or -0.119 for the {'learning_rate': 10, 'max_depth': 3, 'n_estimators': 50}\n",
      "0.39 + or -0.118 for the {'learning_rate': 10, 'max_depth': 3, 'n_estimators': 250}\n",
      "0.39 + or -0.118 for the {'learning_rate': 10, 'max_depth': 3, 'n_estimators': 500}\n",
      "0.53 + or -0.069 for the {'learning_rate': 10, 'max_depth': 5, 'n_estimators': 5}\n",
      "0.478 + or -0.062 for the {'learning_rate': 10, 'max_depth': 5, 'n_estimators': 50}\n",
      "0.478 + or -0.084 for the {'learning_rate': 10, 'max_depth': 5, 'n_estimators': 250}\n",
      "0.484 + or -0.047 for the {'learning_rate': 10, 'max_depth': 5, 'n_estimators': 500}\n",
      "0.576 + or -0.092 for the {'learning_rate': 10, 'max_depth': 7, 'n_estimators': 5}\n",
      "0.55 + or -0.099 for the {'learning_rate': 10, 'max_depth': 7, 'n_estimators': 50}\n",
      "0.534 + or -0.104 for the {'learning_rate': 10, 'max_depth': 7, 'n_estimators': 250}\n",
      "0.554 + or -0.099 for the {'learning_rate': 10, 'max_depth': 7, 'n_estimators': 500}\n",
      "0.69 + or -0.061 for the {'learning_rate': 10, 'max_depth': 9, 'n_estimators': 5}\n",
      "0.708 + or -0.081 for the {'learning_rate': 10, 'max_depth': 9, 'n_estimators': 50}\n",
      "0.684 + or -0.076 for the {'learning_rate': 10, 'max_depth': 9, 'n_estimators': 250}\n",
      "0.682 + or -0.062 for the {'learning_rate': 10, 'max_depth': 9, 'n_estimators': 500}\n",
      "0.3 + or -0.0 for the {'learning_rate': 100, 'max_depth': 1, 'n_estimators': 5}\n",
      "0.3 + or -0.0 for the {'learning_rate': 100, 'max_depth': 1, 'n_estimators': 50}\n",
      "0.3 + or -0.0 for the {'learning_rate': 100, 'max_depth': 1, 'n_estimators': 250}\n",
      "0.3 + or -0.0 for the {'learning_rate': 100, 'max_depth': 1, 'n_estimators': 500}\n",
      "0.424 + or -0.042 for the {'learning_rate': 100, 'max_depth': 3, 'n_estimators': 5}\n",
      "0.424 + or -0.042 for the {'learning_rate': 100, 'max_depth': 3, 'n_estimators': 50}\n",
      "0.424 + or -0.042 for the {'learning_rate': 100, 'max_depth': 3, 'n_estimators': 250}\n",
      "0.422 + or -0.042 for the {'learning_rate': 100, 'max_depth': 3, 'n_estimators': 500}\n",
      "0.498 + or -0.107 for the {'learning_rate': 100, 'max_depth': 5, 'n_estimators': 5}\n",
      "0.49 + or -0.115 for the {'learning_rate': 100, 'max_depth': 5, 'n_estimators': 50}\n",
      "0.432 + or -0.074 for the {'learning_rate': 100, 'max_depth': 5, 'n_estimators': 250}\n",
      "0.49 + or -0.105 for the {'learning_rate': 100, 'max_depth': 5, 'n_estimators': 500}\n",
      "0.572 + or -0.099 for the {'learning_rate': 100, 'max_depth': 7, 'n_estimators': 5}\n",
      "0.546 + or -0.089 for the {'learning_rate': 100, 'max_depth': 7, 'n_estimators': 50}\n",
      "0.564 + or -0.076 for the {'learning_rate': 100, 'max_depth': 7, 'n_estimators': 250}\n",
      "0.54 + or -0.087 for the {'learning_rate': 100, 'max_depth': 7, 'n_estimators': 500}\n",
      "0.632 + or -0.076 for the {'learning_rate': 100, 'max_depth': 9, 'n_estimators': 5}\n",
      "0.61 + or -0.077 for the {'learning_rate': 100, 'max_depth': 9, 'n_estimators': 50}\n",
      "0.612 + or -0.1 for the {'learning_rate': 100, 'max_depth': 9, 'n_estimators': 250}\n",
      "0.606 + or -0.074 for the {'learning_rate': 100, 'max_depth': 9, 'n_estimators': 500}\n"
     ]
    }
   ],
   "source": [
    " display(cv)"
   ]
  },
  {
   "cell_type": "code",
   "execution_count": 125,
   "id": "190259a1",
   "metadata": {},
   "outputs": [
    {
     "name": "stdout",
     "output_type": "stream",
     "text": [
      "Accuracy and recall scores  data of model are :  GradientBoostingClassifier(max_depth=1, n_estimators=250) 0.792 0.92\n",
      "Accuracy and recall scores of test data are :  GradientBoostingClassifier(max_depth=1, n_estimators=250) 0.766 0.9\n",
      "confusion matix of model  :  GradientBoostingClassifier(max_depth=1, n_estimators=250) [[644 152]\n",
      " [ 56 148]]\n"
     ]
    }
   ],
   "source": [
    "    model= GradientBoostingClassifier(learning_rate= 0.1,max_depth= 1,n_estimators=250)\n",
    "    model.fit(X_train, Y_train)\n",
    "    # accuracy score on training data\n",
    "    X_train_prediction = model.predict(X_train)\n",
    "    training_data_accuracy = accuracy_score(Y_train, X_train_prediction)\n",
    "    # accuracy on test data\n",
    "    X_test_prediction = model.predict(X_test)\n",
    "    test_data_accuracy = accuracy_score(X_test_prediction, Y_test)\n",
    "    # ON Whole Data\n",
    "    Y_Pred = model.predict(X_new)\n",
    "    Data_accuracy=accuracy_score(Y_Pred, Y)\n",
    "    # recall score \n",
    "    data_recall = recall_score(Y,Y_Pred )\n",
    "    test_data_recall = recall_score(Y_test, X_test_prediction)\n",
    "    \n",
    "    print('Accuracy and recall scores  data of model are : ',model ,Data_accuracy, data_recall)\n",
    "    print('Accuracy and recall scores of test data are : ',model, test_data_accuracy,test_data_recall)\n",
    "    print('confusion matix of model  : ',model, confusion_matrix(Y_Pred,Y))"
   ]
  },
  {
   "cell_type": "code",
   "execution_count": 126,
   "id": "a69aca6a",
   "metadata": {},
   "outputs": [
    {
     "name": "stdout",
     "output_type": "stream",
     "text": [
      "              precision    recall  f1-score   support\n",
      "\n",
      "           1       0.82      0.94      0.88       350\n",
      "           2       0.79      0.53      0.64       150\n",
      "\n",
      "    accuracy                           0.82       500\n",
      "   macro avg       0.81      0.74      0.76       500\n",
      "weighted avg       0.81      0.82      0.81       500\n",
      "\n",
      "              precision    recall  f1-score   support\n",
      "\n",
      "           1       0.79      0.90      0.84       350\n",
      "           2       0.66      0.45      0.54       150\n",
      "\n",
      "    accuracy                           0.77       500\n",
      "   macro avg       0.73      0.68      0.69       500\n",
      "weighted avg       0.75      0.77      0.75       500\n",
      "\n",
      "              precision    recall  f1-score   support\n",
      "\n",
      "           1       0.92      0.81      0.86       796\n",
      "           2       0.49      0.73      0.59       204\n",
      "\n",
      "    accuracy                           0.79      1000\n",
      "   macro avg       0.71      0.77      0.72      1000\n",
      "weighted avg       0.83      0.79      0.81      1000\n",
      "\n"
     ]
    }
   ],
   "source": [
    "from sklearn.metrics import roc_auc_score,roc_curve,classification_report,confusion_matrix,plot_confusion_matrix\n",
    "print(classification_report(Y_train,X_train_prediction))\n",
    "print(classification_report(Y_test, X_test_prediction))\n",
    "print(classification_report(Y_Pred,Y))"
   ]
  },
  {
   "cell_type": "code",
   "execution_count": null,
   "id": "75f18fe6",
   "metadata": {},
   "outputs": [],
   "source": []
  },
  {
   "cell_type": "code",
   "execution_count": 146,
   "id": "e4143950",
   "metadata": {},
   "outputs": [],
   "source": [
    "input_data=(1,55000,3,40,70000000,60,7,8,9,1,11,1,13,1)"
   ]
  },
  {
   "cell_type": "code",
   "execution_count": 147,
   "id": "a0cc5927",
   "metadata": {},
   "outputs": [],
   "source": [
    "def reshaped(input_data):\n",
    "    input_data_as_numpy_array = np.asarray(input_data)\n",
    "    input_data_reshaped = input_data_as_numpy_array.reshape(1,-1)\n",
    "    return input_data_reshaped"
   ]
  },
  {
   "cell_type": "code",
   "execution_count": null,
   "id": "84f64afc",
   "metadata": {},
   "outputs": [],
   "source": []
  },
  {
   "cell_type": "code",
   "execution_count": 148,
   "id": "8483bd10",
   "metadata": {},
   "outputs": [
    {
     "name": "stdout",
     "output_type": "stream",
     "text": [
      "[2]\n",
      "Person is going to be defaulter\n"
     ]
    }
   ],
   "source": [
    "prediction = model.predict(reshaped(input_data))\n",
    "print(prediction)\n",
    "if (prediction[0]==2):\n",
    "  print('Person is going to be defaulter')\n",
    "else:\n",
    "  print('Not defaulter')"
   ]
  },
  {
   "cell_type": "code",
   "execution_count": null,
   "id": "1a044525",
   "metadata": {},
   "outputs": [],
   "source": []
  },
  {
   "cell_type": "code",
   "execution_count": null,
   "id": "d2f4b0c9",
   "metadata": {},
   "outputs": [],
   "source": []
  }
 ],
 "metadata": {
  "kernelspec": {
   "display_name": "Python 3 (ipykernel)",
   "language": "python",
   "name": "python3"
  },
  "language_info": {
   "codemirror_mode": {
    "name": "ipython",
    "version": 3
   },
   "file_extension": ".py",
   "mimetype": "text/x-python",
   "name": "python",
   "nbconvert_exporter": "python",
   "pygments_lexer": "ipython3",
   "version": "3.9.7"
  }
 },
 "nbformat": 4,
 "nbformat_minor": 5
}
